{
  "nbformat": 4,
  "nbformat_minor": 0,
  "metadata": {
    "colab": {
      "name": "Apriori Algorithm.ipynb",
      "provenance": []
    },
    "kernelspec": {
      "name": "python3",
      "display_name": "Python 3"
    },
    "language_info": {
      "name": "python"
    }
  },
  "cells": [
    {
      "cell_type": "markdown",
      "metadata": {
        "id": "da3T3p2ozJOD"
      },
      "source": [
        "#**APRIORI** **ALGORITHM**"
      ]
    },
    {
      "cell_type": "markdown",
      "metadata": {
        "id": "afuK_DErzCoY"
      },
      "source": [
        "####Apriori algorithm is a classical algorithm in data mining that is used for mining frequent itemsets and association rule mining. "
      ]
    },
    {
      "cell_type": "markdown",
      "metadata": {
        "id": "cmfnAc5g3eKy"
      },
      "source": [
        "#Problem Statement\n",
        "The manager of a retail store is trying to find out an association rule between six items, to figure out which items are more often bought together so that he can keep the items together in order to increase sales.\n",
        "\n",
        "#Dataset\n",
        "We are using the transaction data from Day 1. This dataset contains 6 items and 22 transaction records.\n",
        "\n",
        "***With the help of apyori package, we will be implementing \n",
        "the Apriori algorithm in order to help the manager in market basket analysis.***\n",
        "\n"
      ]
    },
    {
      "cell_type": "code",
      "metadata": {
        "colab": {
          "base_uri": "https://localhost:8080/"
        },
        "id": "DeQQOT4Vy5XA",
        "outputId": "0600148d-c6e3-4752-ae52-3a0280ed75b6"
      },
      "source": [
        "pip install apyori"
      ],
      "execution_count": 1,
      "outputs": [
        {
          "output_type": "stream",
          "name": "stdout",
          "text": [
            "Collecting apyori\n",
            "  Downloading apyori-1.1.2.tar.gz (8.6 kB)\n",
            "Building wheels for collected packages: apyori\n",
            "  Building wheel for apyori (setup.py) ... \u001b[?25l\u001b[?25hdone\n",
            "  Created wheel for apyori: filename=apyori-1.1.2-py3-none-any.whl size=5974 sha256=bde1ce594f20d4f25f17db7084eacea1b7e238a01109fc558ed3073a0b06075f\n",
            "  Stored in directory: /root/.cache/pip/wheels/cb/f6/e1/57973c631d27efd1a2f375bd6a83b2a616c4021f24aab84080\n",
            "Successfully built apyori\n",
            "Installing collected packages: apyori\n",
            "Successfully installed apyori-1.1.2\n"
          ]
        }
      ]
    },
    {
      "cell_type": "code",
      "metadata": {
        "id": "DaBHvD_jzp1L"
      },
      "source": [
        "#importing the required libraries\n",
        "\n",
        "import numpy as np\n",
        "import pandas as pd\n",
        "from apyori import apriori"
      ],
      "execution_count": 2,
      "outputs": []
    },
    {
      "cell_type": "code",
      "metadata": {
        "id": "2XYumsPxz65F"
      },
      "source": [
        "#Loading the dataset\n",
        "\n",
        "store_data = pd.read_csv('Transaction Data from Day 1.csv',header = None)"
      ],
      "execution_count": 6,
      "outputs": []
    },
    {
      "cell_type": "code",
      "metadata": {
        "colab": {
          "base_uri": "https://localhost:8080/",
          "height": 739
        },
        "id": "HL_sEPZb0bzm",
        "outputId": "b92b9f43-764d-41bb-a338-88ba6316a641"
      },
      "source": [
        "#To see the dataset\n",
        "\n",
        "store_data"
      ],
      "execution_count": 7,
      "outputs": [
        {
          "output_type": "execute_result",
          "data": {
            "text/html": [
              "<div>\n",
              "<style scoped>\n",
              "    .dataframe tbody tr th:only-of-type {\n",
              "        vertical-align: middle;\n",
              "    }\n",
              "\n",
              "    .dataframe tbody tr th {\n",
              "        vertical-align: top;\n",
              "    }\n",
              "\n",
              "    .dataframe thead th {\n",
              "        text-align: right;\n",
              "    }\n",
              "</style>\n",
              "<table border=\"1\" class=\"dataframe\">\n",
              "  <thead>\n",
              "    <tr style=\"text-align: right;\">\n",
              "      <th></th>\n",
              "      <th>0</th>\n",
              "      <th>1</th>\n",
              "      <th>2</th>\n",
              "      <th>3</th>\n",
              "      <th>4</th>\n",
              "      <th>5</th>\n",
              "    </tr>\n",
              "  </thead>\n",
              "  <tbody>\n",
              "    <tr>\n",
              "      <th>0</th>\n",
              "      <td>Wine</td>\n",
              "      <td>Chips</td>\n",
              "      <td>Bread</td>\n",
              "      <td>Butter</td>\n",
              "      <td>Milk</td>\n",
              "      <td>Apple</td>\n",
              "    </tr>\n",
              "    <tr>\n",
              "      <th>1</th>\n",
              "      <td>Wine</td>\n",
              "      <td>NaN</td>\n",
              "      <td>Bread</td>\n",
              "      <td>Butter</td>\n",
              "      <td>Milk</td>\n",
              "      <td>NaN</td>\n",
              "    </tr>\n",
              "    <tr>\n",
              "      <th>2</th>\n",
              "      <td>NaN</td>\n",
              "      <td>NaN</td>\n",
              "      <td>Bread</td>\n",
              "      <td>Butter</td>\n",
              "      <td>Milk</td>\n",
              "      <td>NaN</td>\n",
              "    </tr>\n",
              "    <tr>\n",
              "      <th>3</th>\n",
              "      <td>NaN</td>\n",
              "      <td>Chips</td>\n",
              "      <td>NaN</td>\n",
              "      <td>NaN</td>\n",
              "      <td>NaN</td>\n",
              "      <td>Apple</td>\n",
              "    </tr>\n",
              "    <tr>\n",
              "      <th>4</th>\n",
              "      <td>Wine</td>\n",
              "      <td>Chips</td>\n",
              "      <td>Bread</td>\n",
              "      <td>Butter</td>\n",
              "      <td>Milk</td>\n",
              "      <td>Apple</td>\n",
              "    </tr>\n",
              "    <tr>\n",
              "      <th>5</th>\n",
              "      <td>Wine</td>\n",
              "      <td>Chips</td>\n",
              "      <td>NaN</td>\n",
              "      <td>NaN</td>\n",
              "      <td>Milk</td>\n",
              "      <td>NaN</td>\n",
              "    </tr>\n",
              "    <tr>\n",
              "      <th>6</th>\n",
              "      <td>Wine</td>\n",
              "      <td>Chips</td>\n",
              "      <td>Bread</td>\n",
              "      <td>Butter</td>\n",
              "      <td>NaN</td>\n",
              "      <td>Apple</td>\n",
              "    </tr>\n",
              "    <tr>\n",
              "      <th>7</th>\n",
              "      <td>Wine</td>\n",
              "      <td>Chips</td>\n",
              "      <td>NaN</td>\n",
              "      <td>NaN</td>\n",
              "      <td>Milk</td>\n",
              "      <td>NaN</td>\n",
              "    </tr>\n",
              "    <tr>\n",
              "      <th>8</th>\n",
              "      <td>Wine</td>\n",
              "      <td>NaN</td>\n",
              "      <td>Bread</td>\n",
              "      <td>NaN</td>\n",
              "      <td>NaN</td>\n",
              "      <td>Apple</td>\n",
              "    </tr>\n",
              "    <tr>\n",
              "      <th>9</th>\n",
              "      <td>Wine</td>\n",
              "      <td>NaN</td>\n",
              "      <td>Bread</td>\n",
              "      <td>Butter</td>\n",
              "      <td>Milk</td>\n",
              "      <td>NaN</td>\n",
              "    </tr>\n",
              "    <tr>\n",
              "      <th>10</th>\n",
              "      <td>NaN</td>\n",
              "      <td>Chips</td>\n",
              "      <td>Bread</td>\n",
              "      <td>Butter</td>\n",
              "      <td>NaN</td>\n",
              "      <td>Apple</td>\n",
              "    </tr>\n",
              "    <tr>\n",
              "      <th>11</th>\n",
              "      <td>Wine</td>\n",
              "      <td>NaN</td>\n",
              "      <td>NaN</td>\n",
              "      <td>Butter</td>\n",
              "      <td>Milk</td>\n",
              "      <td>Apple</td>\n",
              "    </tr>\n",
              "    <tr>\n",
              "      <th>12</th>\n",
              "      <td>Wine</td>\n",
              "      <td>Chips</td>\n",
              "      <td>Bread</td>\n",
              "      <td>Butter</td>\n",
              "      <td>Milk</td>\n",
              "      <td>NaN</td>\n",
              "    </tr>\n",
              "    <tr>\n",
              "      <th>13</th>\n",
              "      <td>Wine</td>\n",
              "      <td>NaN</td>\n",
              "      <td>Bread</td>\n",
              "      <td>NaN</td>\n",
              "      <td>Milk</td>\n",
              "      <td>Apple</td>\n",
              "    </tr>\n",
              "    <tr>\n",
              "      <th>14</th>\n",
              "      <td>Wine</td>\n",
              "      <td>NaN</td>\n",
              "      <td>Bread</td>\n",
              "      <td>Butter</td>\n",
              "      <td>Milk</td>\n",
              "      <td>Apple</td>\n",
              "    </tr>\n",
              "    <tr>\n",
              "      <th>15</th>\n",
              "      <td>Wine</td>\n",
              "      <td>Chips</td>\n",
              "      <td>Bread</td>\n",
              "      <td>Butter</td>\n",
              "      <td>Milk</td>\n",
              "      <td>Apple</td>\n",
              "    </tr>\n",
              "    <tr>\n",
              "      <th>16</th>\n",
              "      <td>NaN</td>\n",
              "      <td>Chips</td>\n",
              "      <td>Bread</td>\n",
              "      <td>Butter</td>\n",
              "      <td>Milk</td>\n",
              "      <td>Apple</td>\n",
              "    </tr>\n",
              "    <tr>\n",
              "      <th>17</th>\n",
              "      <td>NaN</td>\n",
              "      <td>Chips</td>\n",
              "      <td>NaN</td>\n",
              "      <td>Butter</td>\n",
              "      <td>Milk</td>\n",
              "      <td>Apple</td>\n",
              "    </tr>\n",
              "    <tr>\n",
              "      <th>18</th>\n",
              "      <td>Wine</td>\n",
              "      <td>Chips</td>\n",
              "      <td>Bread</td>\n",
              "      <td>Butter</td>\n",
              "      <td>Milk</td>\n",
              "      <td>Apple</td>\n",
              "    </tr>\n",
              "    <tr>\n",
              "      <th>19</th>\n",
              "      <td>Wine</td>\n",
              "      <td>NaN</td>\n",
              "      <td>Bread</td>\n",
              "      <td>Butter</td>\n",
              "      <td>Milk</td>\n",
              "      <td>Apple</td>\n",
              "    </tr>\n",
              "    <tr>\n",
              "      <th>20</th>\n",
              "      <td>Wine</td>\n",
              "      <td>Chips</td>\n",
              "      <td>Bread</td>\n",
              "      <td>NaN</td>\n",
              "      <td>Milk</td>\n",
              "      <td>Apple</td>\n",
              "    </tr>\n",
              "    <tr>\n",
              "      <th>21</th>\n",
              "      <td>NaN</td>\n",
              "      <td>Chips</td>\n",
              "      <td>NaN</td>\n",
              "      <td>NaN</td>\n",
              "      <td>NaN</td>\n",
              "      <td>NaN</td>\n",
              "    </tr>\n",
              "  </tbody>\n",
              "</table>\n",
              "</div>"
            ],
            "text/plain": [
              "       0      1      2       3     4      5\n",
              "0   Wine  Chips  Bread  Butter  Milk  Apple\n",
              "1   Wine    NaN  Bread  Butter  Milk    NaN\n",
              "2    NaN    NaN  Bread  Butter  Milk    NaN\n",
              "3    NaN  Chips    NaN     NaN   NaN  Apple\n",
              "4   Wine  Chips  Bread  Butter  Milk  Apple\n",
              "5   Wine  Chips    NaN     NaN  Milk    NaN\n",
              "6   Wine  Chips  Bread  Butter   NaN  Apple\n",
              "7   Wine  Chips    NaN     NaN  Milk    NaN\n",
              "8   Wine    NaN  Bread     NaN   NaN  Apple\n",
              "9   Wine    NaN  Bread  Butter  Milk    NaN\n",
              "10   NaN  Chips  Bread  Butter   NaN  Apple\n",
              "11  Wine    NaN    NaN  Butter  Milk  Apple\n",
              "12  Wine  Chips  Bread  Butter  Milk    NaN\n",
              "13  Wine    NaN  Bread     NaN  Milk  Apple\n",
              "14  Wine    NaN  Bread  Butter  Milk  Apple\n",
              "15  Wine  Chips  Bread  Butter  Milk  Apple\n",
              "16   NaN  Chips  Bread  Butter  Milk  Apple\n",
              "17   NaN  Chips    NaN  Butter  Milk  Apple\n",
              "18  Wine  Chips  Bread  Butter  Milk  Apple\n",
              "19  Wine    NaN  Bread  Butter  Milk  Apple\n",
              "20  Wine  Chips  Bread     NaN  Milk  Apple\n",
              "21   NaN  Chips    NaN     NaN   NaN    NaN"
            ]
          },
          "metadata": {},
          "execution_count": 7
        }
      ]
    },
    {
      "cell_type": "code",
      "metadata": {
        "colab": {
          "base_uri": "https://localhost:8080/"
        },
        "id": "kbhJDMQu1STh",
        "outputId": "0f0aab36-3cdd-4624-e90d-624e7466a628"
      },
      "source": [
        "#To see the shape of dataset\n",
        "\n",
        "store_data.shape"
      ],
      "execution_count": 8,
      "outputs": [
        {
          "output_type": "execute_result",
          "data": {
            "text/plain": [
              "(22, 6)"
            ]
          },
          "metadata": {},
          "execution_count": 8
        }
      ]
    },
    {
      "cell_type": "code",
      "metadata": {
        "id": "JcKRHPPc1dUC"
      },
      "source": [
        "#To Convert Pandas DataFrame into a list of lists\n",
        "\n",
        "records = []\n",
        "for i in range (0,22):\n",
        "  records.append([str(store_data.values[i,j]) for j in range(0,6)])\n"
      ],
      "execution_count": 9,
      "outputs": []
    },
    {
      "cell_type": "code",
      "metadata": {
        "colab": {
          "base_uri": "https://localhost:8080/"
        },
        "id": "esqW0Ezp4o8m",
        "outputId": "68e9c4d8-5c43-4baa-9d7a-9854211ea465"
      },
      "source": [
        "records                                                # We get 2D List."
      ],
      "execution_count": 16,
      "outputs": [
        {
          "output_type": "execute_result",
          "data": {
            "text/plain": [
              "[['Wine', 'Chips', 'Bread', 'Butter', 'Milk', 'Apple'],\n",
              " ['Wine', 'nan', 'Bread', 'Butter', 'Milk', 'nan'],\n",
              " ['nan', 'nan', 'Bread', 'Butter', 'Milk', 'nan'],\n",
              " ['nan', 'Chips', 'nan', 'nan', 'nan', 'Apple'],\n",
              " ['Wine', 'Chips', 'Bread', 'Butter', 'Milk', 'Apple'],\n",
              " ['Wine', 'Chips', 'nan', 'nan', 'Milk', 'nan'],\n",
              " ['Wine', 'Chips', 'Bread', 'Butter', 'nan', 'Apple'],\n",
              " ['Wine', 'Chips', 'nan', 'nan', 'Milk', 'nan'],\n",
              " ['Wine', 'nan', 'Bread', 'nan', 'nan', 'Apple'],\n",
              " ['Wine', 'nan', 'Bread', 'Butter', 'Milk', 'nan'],\n",
              " ['nan', 'Chips', 'Bread', 'Butter', 'nan', 'Apple'],\n",
              " ['Wine', 'nan', 'nan', 'Butter', 'Milk', 'Apple'],\n",
              " ['Wine', 'Chips', 'Bread', 'Butter', 'Milk', 'nan'],\n",
              " ['Wine', 'nan', 'Bread', 'nan', 'Milk', 'Apple'],\n",
              " ['Wine', 'nan', 'Bread', 'Butter', 'Milk', 'Apple'],\n",
              " ['Wine', 'Chips', 'Bread', 'Butter', 'Milk', 'Apple'],\n",
              " ['nan', 'Chips', 'Bread', 'Butter', 'Milk', 'Apple'],\n",
              " ['nan', 'Chips', 'nan', 'Butter', 'Milk', 'Apple'],\n",
              " ['Wine', 'Chips', 'Bread', 'Butter', 'Milk', 'Apple'],\n",
              " ['Wine', 'nan', 'Bread', 'Butter', 'Milk', 'Apple'],\n",
              " ['Wine', 'Chips', 'Bread', 'nan', 'Milk', 'Apple'],\n",
              " ['nan', 'Chips', 'nan', 'nan', 'nan', 'nan']]"
            ]
          },
          "metadata": {},
          "execution_count": 16
        }
      ]
    },
    {
      "cell_type": "code",
      "metadata": {
        "id": "xgpjaKjg2ImI"
      },
      "source": [
        "# Building the first Apriori Model\n",
        "\n",
        "association_rules =apriori(records,min_support = 0.50,min_confidence = 0.7, min_lift = 1.2,min_length = 2)\n",
        "association_results = list(association_rules)"
      ],
      "execution_count": 10,
      "outputs": []
    },
    {
      "cell_type": "code",
      "metadata": {
        "colab": {
          "base_uri": "https://localhost:8080/"
        },
        "id": "n9I6usId2t0q",
        "outputId": "a825a3b4-114f-455e-b260-83ffd4322581"
      },
      "source": [
        "#To get the number of rules\n",
        "\n",
        "print(len(association_results))"
      ],
      "execution_count": 11,
      "outputs": [
        {
          "output_type": "stream",
          "name": "stdout",
          "text": [
            "1\n"
          ]
        }
      ]
    },
    {
      "cell_type": "code",
      "metadata": {
        "colab": {
          "base_uri": "https://localhost:8080/"
        },
        "id": "B0JUhKBI23DP",
        "outputId": "25ccddfa-ae7c-419c-95e4-63a3e2074b00"
      },
      "source": [
        "#To see the first rule\n",
        "print(association_results)"
      ],
      "execution_count": 15,
      "outputs": [
        {
          "output_type": "stream",
          "name": "stdout",
          "text": [
            "[RelationRecord(items=frozenset({'Bread', 'Milk', 'Butter'}), support=0.5, ordered_statistics=[OrderedStatistic(items_base=frozenset({'Butter'}), items_add=frozenset({'Bread', 'Milk'}), confidence=0.7333333333333334, lift=1.241025641025641), OrderedStatistic(items_base=frozenset({'Bread', 'Milk'}), items_add=frozenset({'Butter'}), confidence=0.8461538461538461, lift=1.241025641025641)])]\n"
          ]
        }
      ]
    },
    {
      "cell_type": "markdown",
      "metadata": {
        "id": "1lpX4weW4LFM"
      },
      "source": [
        "The support value for the first rule is 0.5. This number is calculated by dividing the number of transactions containing ‘Milk,’ ‘Bread,’ and ‘Butter’ by the total number of transactions.\n",
        "\n",
        "The confidence level for the rule is 0.846, which shows that out of all the transactions that contain both “Milk” and “Bread”, 84.6 percent contain ‘Butter’ too.\n",
        "\n",
        "The lift of 1.241 tells us that ‘Butter’ is 1.241 times more likely to be bought by the customers who buy both ‘Milk’ and ‘Butter’ compared to the default likelihood sale of ‘Butter.’"
      ]
    },
    {
      "cell_type": "markdown",
      "metadata": {
        "id": "-zI9wPS14Vaw"
      },
      "source": [
        "# ***THANK YOU*** "
      ]
    },
    {
      "cell_type": "code",
      "metadata": {
        "id": "p9sbgrfD3A2k"
      },
      "source": [
        ""
      ],
      "execution_count": null,
      "outputs": []
    }
  ]
}